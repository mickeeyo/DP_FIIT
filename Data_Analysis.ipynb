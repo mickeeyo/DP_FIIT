{
 "cells": [
  {
   "cell_type": "code",
   "execution_count": 1,
   "metadata": {},
   "outputs": [],
   "source": [
    "import scipy.stats as stats\n",
    "import statsmodels.api as sm\n",
    "from statsmodels.formula.api import ols\n",
    "import statistics as st\n",
    "from scipy import mean\n",
    "import matplotlib.pyplot as plt\n",
    "import pandas as pd\n",
    "import numpy as np\n",
    "\n",
    "BOLD_START = '\\033[1m'\n",
    "BOLD_END = '\\033[0m'\n",
    "\n",
    "ITALIC_START = '\\x1B[3m'\n",
    "ITALIC_END = '\\x1B[23m'"
   ]
  },
  {
   "cell_type": "markdown",
   "metadata": {},
   "source": [
    "_________________________\n",
    "# ZRUCNOSTI (alza.sk)"
   ]
  },
  {
   "cell_type": "markdown",
   "metadata": {},
   "source": [
    "### K-medoids"
   ]
  },
  {
   "cell_type": "code",
   "execution_count": 11,
   "metadata": {},
   "outputs": [
    {
     "name": "stdout",
     "output_type": "stream",
     "text": [
      "\u001b[1mOverall\u001b[0m\n",
      "Silhuette score F_onewayResult(statistic=0.6395336147584487, pvalue=0.5375069108294325)\n",
      "Feature Importance F_onewayResult(statistic=0.08657243816254415, pvalue=0.9173946823979778)\n",
      "\n",
      "\u001b[1mRozlisovacie ulohy\u001b[0m\n",
      "Silhuette score F_onewayResult(statistic=0.06187357918446484, pvalue=0.9405935544168023)\n",
      "Feature Importance F_onewayResult(statistic=0.3333333333333333, pvalue=0.7289999999999998)\n",
      "\n",
      "\u001b[1mObycajne ulohy\u001b[0m\n",
      "Silhuette score F_onewayResult(statistic=1.0600372614175677, pvalue=0.3767606550058922)\n",
      "Feature Importance F_onewayResult(statistic=0.16216216216216217, pvalue=0.8521357085570362)\n",
      "\n",
      "\n",
      "\u001b[1mSilhouette score mean, 95% Confidence interval, STD and feature importance mean\u001b[0m\n",
      "\u001b[1mOverall\u001b[0m\n",
      "\u001b[1mDTW \u001b[0m0.431 | \u001b[1mConfidence interal - \u001b[0m(0.322, 0.541)  | \u001b[1m STD \u001b[0m0.131 | \u001b[1mImportance \u001b[0m2.875\n",
      "\u001b[1mLCS \u001b[0m0.363 | \u001b[1mConfidence interal - \u001b[0m(0.263, 0.462)  | \u001b[1m STD \u001b[0m0.119 | \u001b[1mImportance \u001b[0m2.625\n",
      "\u001b[1mLEV \u001b[0m0.375 | \u001b[1mConfidence interal - \u001b[0m(0.26, 0.49)  | \u001b[1m STD \u001b[0m0.138 | \u001b[1mImportance \u001b[0m3\n",
      "\n",
      "\n",
      "      Mean        95% CI    STD  Feature importance\n",
      "DTW  0.431  0.322, 0.541  0.131               2.875\n",
      "LCS  0.363  0.263, 0.462  0.119               2.625\n",
      "LEV  0.375    0.26, 0.49  0.138               3.000\n",
      "----------------------------------------------------------------------------------\n",
      "\n",
      "\u001b[1mRozlisovacie ulohy\u001b[0m\n",
      "\u001b[1mDTW \u001b[0m0.398 | \u001b[1mConfidence interal - \u001b[0m(-0.06, 0.855)  | \u001b[1m STD \u001b[0m0.184 | \u001b[1mImportance \u001b[0m1.333\n",
      "\u001b[1mLCS \u001b[0m0.356 | \u001b[1mConfidence interal - \u001b[0m(-0.082, 0.794)  | \u001b[1m STD \u001b[0m0.176 | \u001b[1mImportance \u001b[0m1.667\n",
      "\u001b[1mLEV \u001b[0m0.403 | \u001b[1mConfidence interal - \u001b[0m(-0.032, 0.839)  | \u001b[1m STD \u001b[0m0.175 | \u001b[1mImportance \u001b[0m1.667\n",
      "\n",
      "\n",
      "      Mean         95% CI    STD  Feature importance\n",
      "DTW  0.398   -0.06, 0.855  0.184               1.333\n",
      "LCS  0.356  -0.082, 0.794  0.176               1.667\n",
      "LEV  0.403  -0.032, 0.839  0.175               1.667\n",
      "----------------------------------------------------------------------------------\n",
      "\n",
      "\u001b[1mObycajne ulohy\u001b[0m\n",
      "\u001b[1mDTW \u001b[0m0.452 | \u001b[1mConfidence interal - \u001b[0m(0.317, 0.586)  | \u001b[1m STD \u001b[0m0.108 | \u001b[1mImportance \u001b[0m3.8\n",
      "\u001b[1mLCS \u001b[0m0.366 | \u001b[1mConfidence interal - \u001b[0m(0.247, 0.486)  | \u001b[1m STD \u001b[0m0.096 | \u001b[1mImportance \u001b[0m3.2\n",
      "\u001b[1mLEV \u001b[0m0.358 | \u001b[1mConfidence interal - \u001b[0m(0.196, 0.52)  | \u001b[1m STD \u001b[0m0.13 | \u001b[1mImportance \u001b[0m3.8\n",
      "\n",
      "\n",
      "      Mean        95% CI    STD  Feature importance\n",
      "DTW  0.452  0.317, 0.586  0.108                 3.8\n",
      "LCS  0.366  0.247, 0.486  0.096                 3.2\n",
      "LEV  0.358   0.196, 0.52  0.130                 3.8\n"
     ]
    }
   ],
   "source": [
    "# K-medoids\n",
    "DTW = [0.240, 0.353, 0.6, 0.458, 0.457, 0.28, 0.580, 0.483]\n",
    "LCS = [0.222, 0.291, 0.556, 0.303, 0.334, 0.262, 0.488, 0.445] \n",
    "LEV = [0.247, 0.370, 0.593, 0.345, 0.434, 0.237, 0.538, 0.236]\n",
    "IDTW = [1, 2, 1, 4, 6, 4, 4, 1]\n",
    "ILCS = [2, 1, 2, 4, 5, 2, 1, 4]\n",
    "ILEV = [2, 2, 1, 6, 4, 1, 2, 6]\n",
    "\n",
    "overall, diff, classic = feature_stats_zrucnosti(DTW, LCS, LEV, IDTW, ILCS, ILEV)"
   ]
  },
  {
   "cell_type": "code",
   "execution_count": 12,
   "metadata": {},
   "outputs": [
    {
     "name": "stdout",
     "output_type": "stream",
     "text": [
      "Overall\n"
     ]
    },
    {
     "data": {
      "image/png": "[encoded data removed]",
      "text/plain": [
       "<Figure size 432x288 with 1 Axes>"
      ]
     },
     "metadata": {
      "needs_background": "light"
     },
     "output_type": "display_data"
    }
   ],
   "source": [
    "print(\"Overall\")\n",
    "show_boxplots(DTW,LCS,LEV)"
   ]
  },
  {
   "cell_type": "code",
   "execution_count": 13,
   "metadata": {},
   "outputs": [
    {
     "name": "stdout",
     "output_type": "stream",
     "text": [
      "Rozlisovacie\n"
     ]
    },
    {
     "data": {
      "image/png": "[encoded data removed]",
      "text/plain": [
       "<Figure size 432x288 with 1 Axes>"
      ]
     },
     "metadata": {
      "needs_background": "light"
     },
     "output_type": "display_data"
    }
   ],
   "source": [
    "print(\"Rozlisovacie\")\n",
    "show_boxplots(DTW[:3],LCS[:3],LEV[:3])"
   ]
  },
  {
   "cell_type": "code",
   "execution_count": 14,
   "metadata": {},
   "outputs": [
    {
     "name": "stdout",
     "output_type": "stream",
     "text": [
      "Obycajne\n"
     ]
    },
    {
     "data": {
      "image/png": "[encoded data removed]",
      "text/plain": [
       "<Figure size 432x288 with 1 Axes>"
      ]
     },
     "metadata": {
      "needs_background": "light"
     },
     "output_type": "display_data"
    }
   ],
   "source": [
    "print(\"Obycajne\")\n",
    "show_boxplots(DTW[3:],LCS[3:],LEV[3:])"
   ]
  },
  {
   "cell_type": "markdown",
   "metadata": {},
   "source": [
    "### K-means"
   ]
  },
  {
   "cell_type": "code",
   "execution_count": 34,
   "metadata": {},
   "outputs": [
    {
     "name": "stdout",
     "output_type": "stream",
     "text": [
      "\u001b[1mOverall\u001b[0m\n",
      "Silhuette score F_onewayResult(statistic=1.2988383751704942, pvalue=0.2938836964718263)\n",
      "Feature Importance F_onewayResult(statistic=0.22636815920398012, pvalue=0.7993450681094263)\n",
      "\n",
      "\u001b[1mRozlisovacie ulohy\u001b[0m\n",
      "Silhuette score F_onewayResult(statistic=0.03773682454186102, pvalue=0.9631930194910592)\n",
      "Feature Importance F_onewayResult(statistic=0.21052631578947367, pvalue=0.8158964847277967)\n",
      "\n",
      "\u001b[1mObycajne ulohy\u001b[0m\n",
      "Silhuette score F_onewayResult(statistic=1.7753674957300947, pvalue=0.21114556025681064)\n",
      "Feature Importance F_onewayResult(statistic=1.1923076923076925, pvalue=0.3370528090040638)\n",
      "\n",
      "\n",
      "\u001b[1mSilhouette score mean, 95% Confidence interval, STD and feature importance mean\u001b[0m\n",
      "\u001b[1mOverall\u001b[0m\n",
      "\u001b[1mDTW \u001b[0m0.612 | \u001b[1mConfidence interal - \u001b[0m(0.521, 0.702)  | \u001b[1m STD \u001b[0m0.108 | \u001b[1mImportance \u001b[0m3.25\n",
      "\u001b[1mLCS \u001b[0m0.523 | \u001b[1mConfidence interal - \u001b[0m(0.398, 0.648)  | \u001b[1m STD \u001b[0m0.15 | \u001b[1mImportance \u001b[0m2.875\n",
      "\u001b[1mLEV \u001b[0m0.61 | \u001b[1mConfidence interal - \u001b[0m(0.513, 0.706)  | \u001b[1m STD \u001b[0m0.115 | \u001b[1mImportance \u001b[0m3.375\n",
      "\n",
      "\n",
      "      Mean        95% CI    STD  Feature importance\n",
      "DTW  0.612  0.521, 0.702  0.108               3.250\n",
      "LCS  0.523  0.398, 0.648  0.150               2.875\n",
      "LEV  0.610  0.513, 0.706  0.115               3.375\n",
      "----------------------------------------------------------------------------------\n",
      "\n",
      "\u001b[1mRozlisovacie ulohy\u001b[0m\n",
      "\u001b[1mDTW \u001b[0m0.565 | \u001b[1mConfidence interal - \u001b[0m(0.18, 0.95)  | \u001b[1m STD \u001b[0m0.155 | \u001b[1mImportance \u001b[0m2\n",
      "\u001b[1mLCS \u001b[0m0.535 | \u001b[1mConfidence interal - \u001b[0m(0.164, 0.905)  | \u001b[1m STD \u001b[0m0.149 | \u001b[1mImportance \u001b[0m2.667\n",
      "\u001b[1mLEV \u001b[0m0.564 | \u001b[1mConfidence interal - \u001b[0m(0.173, 0.954)  | \u001b[1m STD \u001b[0m0.157 | \u001b[1mImportance \u001b[0m2\n",
      "\n",
      "\n",
      "      Mean        95% CI    STD  Feature importance\n",
      "DTW  0.565    0.18, 0.95  0.155               2.000\n",
      "LCS  0.535  0.164, 0.905  0.149               2.667\n",
      "LEV  0.564  0.173, 0.954  0.157               2.000\n",
      "----------------------------------------------------------------------------------\n",
      "\n",
      "\u001b[1mObycajne ulohy\u001b[0m\n",
      "\u001b[1mDTW \u001b[0m0.64 | \u001b[1mConfidence interal - \u001b[0m(0.544, 0.735)  | \u001b[1m STD \u001b[0m0.077 | \u001b[1mImportance \u001b[0m4\n",
      "\u001b[1mLCS \u001b[0m0.516 | \u001b[1mConfidence interal - \u001b[0m(0.308, 0.724)  | \u001b[1m STD \u001b[0m0.167 | \u001b[1mImportance \u001b[0m3\n",
      "\u001b[1mLEV \u001b[0m0.637 | \u001b[1mConfidence interal - \u001b[0m(0.524, 0.751)  | \u001b[1m STD \u001b[0m0.092 | \u001b[1mImportance \u001b[0m4.2\n",
      "\n",
      "\n",
      "      Mean        95% CI    STD  Feature importance\n",
      "DTW  0.640  0.544, 0.735  0.077                 4.0\n",
      "LCS  0.516  0.308, 0.724  0.167                 3.0\n",
      "LEV  0.637  0.524, 0.751  0.092                 4.2\n"
     ]
    }
   ],
   "source": [
    "# K-means\n",
    "DTW = [0.7, 0.396, 0.6, 0.696, 0.535, 0.702, .580, .685]\n",
    "LCS = [.672, .376, .556, .684, .491, .264, .488, .653] \n",
    "LEV = [.704, .394, .593, .716, .537, .704, .538, .692]\n",
    "IDTW = [1, 4, 1, 5, 4, 4, 2, 5]\n",
    "ILCS = [3, 4, 1, 3, 1, 2, 4, 5]\n",
    "ILEV = [2, 3, 1, 3, 5, 3, 5, 5]\n",
    "\n",
    "overall, diff, classic = feature_stats_zrucnosti(DTW, LCS, LEV, IDTW, ILCS, ILEV)"
   ]
  },
  {
   "cell_type": "code",
   "execution_count": 16,
   "metadata": {},
   "outputs": [
    {
     "name": "stdout",
     "output_type": "stream",
     "text": [
      "Overall\n"
     ]
    },
    {
     "data": {
      "image/png": "[encoded data removed]",
      "text/plain": [
       "<Figure size 432x288 with 1 Axes>"
      ]
     },
     "metadata": {
      "needs_background": "light"
     },
     "output_type": "display_data"
    }
   ],
   "source": [
    "print(\"Overall\")\n",
    "show_boxplots(DTW,LCS,LEV)"
   ]
  },
  {
   "cell_type": "code",
   "execution_count": 17,
   "metadata": {},
   "outputs": [
    {
     "name": "stdout",
     "output_type": "stream",
     "text": [
      "Rozlisovacie\n"
     ]
    },
    {
     "data": {
      "image/png": "[encoded data removed]",
      "text/plain": [
       "<Figure size 432x288 with 1 Axes>"
      ]
     },
     "metadata": {
      "needs_background": "light"
     },
     "output_type": "display_data"
    }
   ],
   "source": [
    "print(\"Rozlisovacie\")\n",
    "show_boxplots(DTW[:3],LCS[:3],LEV[:3])"
   ]
  },
  {
   "cell_type": "code",
   "execution_count": 18,
   "metadata": {},
   "outputs": [
    {
     "name": "stdout",
     "output_type": "stream",
     "text": [
      "Obycajne\n"
     ]
    },
    {
     "data": {
      "image/png": "[encoded data removed]",
      "text/plain": [
       "<Figure size 432x288 with 1 Axes>"
      ]
     },
     "metadata": {
      "needs_background": "light"
     },
     "output_type": "display_data"
    }
   ],
   "source": [
    "print(\"Obycajne\")\n",
    "show_boxplots(DTW[3:],LCS[3:],LEV[3:])"
   ]
  },
  {
   "cell_type": "markdown",
   "metadata": {},
   "source": [
    "___________________________________\n",
    "\n",
    "# MSVN"
   ]
  },
  {
   "cell_type": "markdown",
   "metadata": {},
   "source": [
    "### K-Means"
   ]
  },
  {
   "cell_type": "code",
   "execution_count": 28,
   "metadata": {},
   "outputs": [],
   "source": [
    "DTW = [.26, .32, .20, .243, .276, .715, .239, .286, .329, .297, .684, .208]\n",
    "LCS = [.291, .410, .276, .243, .294, .668, .233, .265, .296, .170, .643, .284] \n",
    "LEV = [.303, .448, .361, .271, .291, .696, .355, .305, .312, .361, .669, .332]\n",
    "IDTW = [5,9,5,5,5,5,5,8,5,4,5,6]\n",
    "ILCS = [3,1,9,2,4,4,5,5,5,2,4,5]\n",
    "ILEV = [1,1,2,4,4,4,1,5,4,4,4,6]"
   ]
  },
  {
   "cell_type": "code",
   "execution_count": 20,
   "metadata": {},
   "outputs": [
    {
     "name": "stdout",
     "output_type": "stream",
     "text": [
      "\u001b[1mOverall\u001b[0m\n",
      "Silhuette score F_onewayResult(statistic=0.45084641249644075, pvalue=0.6409544445219496)\n",
      "Feature Importance F_onewayResult(statistic=5.1716417910447765, pvalue=0.0111242349821975)\n",
      "\n",
      "\n",
      "\u001b[1mSilhouette score mean, 95% Confidence interval, STD and feature importance mean\u001b[0m\n",
      "\u001b[1mOverall\u001b[0m\n",
      "\u001b[1mDTW \u001b[0m0.338 | \u001b[1mConfidence interal - \u001b[0m(0.228, 0.448)  | \u001b[1m STD \u001b[0m0.174 | \u001b[1mImportance \u001b[0m5.583\n",
      "\u001b[1mLCS \u001b[0m0.339 | \u001b[1mConfidence interal - \u001b[0m(0.239, 0.44)  | \u001b[1m STD \u001b[0m0.158 | \u001b[1mImportance \u001b[0m4.083\n",
      "\u001b[1mLEV \u001b[0m0.392 | \u001b[1mConfidence interal - \u001b[0m(0.301, 0.483)  | \u001b[1m STD \u001b[0m0.143 | \u001b[1mImportance \u001b[0m3.333\n",
      "\n",
      "\n",
      "      Mean        95% CI    STD  Feature importance\n",
      "DTW  0.338  0.228, 0.448  0.174               5.583\n",
      "LCS  0.339   0.239, 0.44  0.158               4.083\n",
      "LEV  0.392  0.301, 0.483  0.143               3.333\n",
      "----------------------------------------------------------------------------------\n"
     ]
    }
   ],
   "source": [
    "overall = feature_stats_msvn(DTW, LCS, LEV, IDTW, ILCS, ILEV)"
   ]
  },
  {
   "cell_type": "code",
   "execution_count": 33,
   "metadata": {},
   "outputs": [
    {
     "data": {
      "text/plain": [
       "F_onewayResult(statistic=4.252983293556086, pvalue=0.051186053923746706)"
      ]
     },
     "execution_count": 33,
     "metadata": {},
     "output_type": "execute_result"
    }
   ],
   "source": [
    "stats.f_oneway(IDTW, ILCS)"
   ]
  },
  {
   "cell_type": "code",
   "execution_count": 21,
   "metadata": {},
   "outputs": [
    {
     "name": "stdout",
     "output_type": "stream",
     "text": [
      "Overall\n"
     ]
    },
    {
     "data": {
      "image/png": "[encoded data removed]",
      "text/plain": [
       "<Figure size 432x288 with 1 Axes>"
      ]
     },
     "metadata": {
      "needs_background": "light"
     },
     "output_type": "display_data"
    }
   ],
   "source": [
    "print(\"Overall\")\n",
    "show_boxplots(DTW,LCS,LEV)"
   ]
  },
  {
   "cell_type": "markdown",
   "metadata": {},
   "source": [
    "### K-Medoids"
   ]
  },
  {
   "cell_type": "code",
   "execution_count": 22,
   "metadata": {},
   "outputs": [],
   "source": [
    "DTW = [.265, .228, .244, .222, .327, .295, .296, .254, .255, .363, .183, .183]\n",
    "LCS = [.272, .243, .238, .227, .295, .226, .292, .291, .237, .321, .237, .235] \n",
    "LEV = [.279, .220, .274, .211, .305, .285, .314, .298, .206, .361, .250, .239]\n",
    "IDTW = [5,5,4,8,2,5,7,5,7,3,7,5]\n",
    "ILCS = [2,2,2,7,3,3,4,3,3,5,9,6]\n",
    "ILEV = [4,5,1,9,2,5,5,2,7,5,9,6]"
   ]
  },
  {
   "cell_type": "code",
   "execution_count": 23,
   "metadata": {},
   "outputs": [
    {
     "name": "stdout",
     "output_type": "stream",
     "text": [
      "\u001b[1mOverall\u001b[0m\n",
      "Silhuette score F_onewayResult(statistic=0.2190103646804805, pvalue=0.8044716128172305)\n",
      "Feature Importance F_onewayResult(statistic=0.9270941054808693, pvalue=0.4057634919768802)\n",
      "\n",
      "\n",
      "\u001b[1mSilhouette score mean, 95% Confidence interval, STD and feature importance mean\u001b[0m\n",
      "\u001b[1mOverall\u001b[0m\n",
      "\u001b[1mDTW \u001b[0m0.26 | \u001b[1mConfidence interal - \u001b[0m(0.225, 0.294)  | \u001b[1m STD \u001b[0m0.054 | \u001b[1mImportance \u001b[0m5.25\n",
      "\u001b[1mLCS \u001b[0m0.26 | \u001b[1mConfidence interal - \u001b[0m(0.239, 0.28)  | \u001b[1m STD \u001b[0m0.033 | \u001b[1mImportance \u001b[0m4.083\n",
      "\u001b[1mLEV \u001b[0m0.27 | \u001b[1mConfidence interal - \u001b[0m(0.24, 0.3)  | \u001b[1m STD \u001b[0m0.047 | \u001b[1mImportance \u001b[0m5\n",
      "\n",
      "\n",
      "     Mean        95% CI    STD  Feature importance\n",
      "DTW  0.26  0.225, 0.294  0.054               5.250\n",
      "LCS  0.26   0.239, 0.28  0.033               4.083\n",
      "LEV  0.27     0.24, 0.3  0.047               5.000\n",
      "----------------------------------------------------------------------------------\n"
     ]
    }
   ],
   "source": [
    "overall = feature_stats_msvn(DTW, LCS, LEV, IDTW, ILCS, ILEV)"
   ]
  },
  {
   "cell_type": "code",
   "execution_count": 24,
   "metadata": {},
   "outputs": [
    {
     "name": "stdout",
     "output_type": "stream",
     "text": [
      "Overall\n"
     ]
    },
    {
     "data": {
      "image/png": "[encoded data removed]",
      "text/plain": [
       "<Figure size 432x288 with 1 Axes>"
      ]
     },
     "metadata": {
      "needs_background": "light"
     },
     "output_type": "display_data"
    }
   ],
   "source": [
    "print(\"Overall\")\n",
    "show_boxplots(DTW,LCS,LEV)"
   ]
  },
  {
   "cell_type": "code",
   "execution_count": null,
   "metadata": {},
   "outputs": [],
   "source": [
    "# do jedneho grafu - rovnaka y os"
   ]
  },
  {
   "cell_type": "code",
   "execution_count": 10,
   "metadata": {},
   "outputs": [],
   "source": [
    "def feature_stats_msvn(DTW, LCS, LEV, IDTW, ILCS, ILEV):\n",
    "    print(BOLD_START + \"Overall\" + BOLD_END)\n",
    "    print(\"Silhuette score \" + str(stats.f_oneway(DTW, LCS, LEV)))\n",
    "    print(\"Feature Importance \" + str(stats.f_oneway(IDTW, ILCS, ILEV)))\n",
    "\n",
    "    print(\"\\n\")\n",
    "    \n",
    "    overall = {\n",
    "        \"DTW\" : [round(st.mean(DTW),3),confidence_interval(DTW,False),round(stats.tstd(DTW),3),round(st.mean(IDTW),3)],\n",
    "        \"LCS\" : [round(st.mean(LCS),3),confidence_interval(LCS,False),round(stats.tstd(LCS),3),round(st.mean(ILCS),3)],\n",
    "        \"LEV\" : [round(st.mean(LEV),3),confidence_interval(LEV,False),round(stats.tstd(LEV),3),round(st.mean(ILEV),3)]\n",
    "    }\n",
    "\n",
    "    col = [\"Mean\" , \"95% CI\", \"STD\" , \"Feature importance\"]\n",
    "    overalldf = pd.DataFrame.from_dict(overall, orient=\"index\", columns=col)\n",
    "    \n",
    "    print(BOLD_START + \"Silhouette score mean, 95% Confidence interval, STD and feature importance mean\" + BOLD_END)\n",
    "    print(BOLD_START + \"Overall\" + BOLD_END)\n",
    "    print(BOLD_START + \"DTW \" + BOLD_END + str(round(st.mean(DTW),3)) + \" | \" + confidence_interval(DTW) + \" | \" + BOLD_START + \" STD \" + BOLD_END + str(round(stats.tstd(DTW),3)) + \" | \" + BOLD_START + \"Importance \" + BOLD_END + str(round(st.mean(IDTW),3)))\n",
    "    print(BOLD_START + \"LCS \" + BOLD_END + str(round(st.mean(LCS),3))+ \" | \" + confidence_interval(LCS) + \" | \" + BOLD_START + \" STD \" + BOLD_END + str(round(stats.tstd(LCS),3)) + \" | \" + BOLD_START + \"Importance \" + BOLD_END + str(round(st.mean(ILCS),3)))\n",
    "    print(BOLD_START + \"LEV \" + BOLD_END + str(round(st.mean(LEV),3))+ \" | \" + confidence_interval(LEV) + \" | \"+ BOLD_START + \" STD \" + BOLD_END + str(round(stats.tstd(LEV),3)) + \" | \" + BOLD_START + \"Importance \" + BOLD_END + str(round(st.mean(ILEV),3)))\n",
    "    print(\"\\n\")\n",
    "    print(overalldf)\n",
    "    print(\"----------------------------------------------------------------------------------\")\n",
    "    \n",
    "    return overalldf\n",
    "    \n",
    "    \n",
    "def feature_stats_zrucnosti(DTW, LCS, LEV, IDTW, ILCS, ILEV):\n",
    "    \n",
    "    \n",
    "    overall = {\n",
    "        \"DTW\" : [round(st.mean(DTW),3),confidence_interval(DTW,False),round(stats.tstd(DTW),3),round(st.mean(IDTW),3)],\n",
    "        \"LCS\" : [round(st.mean(LCS),3),confidence_interval(LCS,False),round(stats.tstd(LCS),3),round(st.mean(ILCS),3)],\n",
    "        \"LEV\" : [round(st.mean(LEV),3),confidence_interval(LEV,False),round(stats.tstd(LEV),3),round(st.mean(ILEV),3)]\n",
    "    }\n",
    "    \n",
    "    diff = {\n",
    "        \"DTW\" : [round(st.mean(DTW[:3]),3),confidence_interval(DTW[:3],False),round(stats.tstd(DTW[:3]),3),round(st.mean(IDTW[:3]),3)],\n",
    "        \"LCS\" : [round(st.mean(LCS[:3]),3),confidence_interval(LCS[:3],False),round(stats.tstd(LCS[:3]),3),round(st.mean(ILCS[:3]),3)],\n",
    "        \"LEV\" : [round(st.mean(LEV[:3]),3),confidence_interval(LEV[:3],False),round(stats.tstd(LEV[:3]),3),round(st.mean(ILEV[:3]),3)]\n",
    "    }\n",
    "    \n",
    "    classic = {\n",
    "        \"DTW\" : [round(st.mean(DTW[3:]),3),confidence_interval(DTW[3:],False),round(stats.tstd(DTW[3:]),3),round(st.mean(IDTW[3:]),3)],\n",
    "        \"LCS\" : [round(st.mean(LCS[3:]),3),confidence_interval(LCS[3:],False),round(stats.tstd(LCS[3:]),3),round(st.mean(ILCS[3:]),3)],\n",
    "        \"LEV\" : [round(st.mean(LEV[3:]),3),confidence_interval(LEV[3:],False),round(stats.tstd(LEV[3:]),3),round(st.mean(ILEV[3:]),3)]\n",
    "    }\n",
    "    \n",
    "    \n",
    "    print(BOLD_START + \"Overall\" + BOLD_END)\n",
    "    print(\"Silhuette score \" + str(stats.f_oneway(DTW, LCS, LEV)))\n",
    "    print(\"Feature Importance \" + str(stats.f_oneway(IDTW, ILCS, ILEV)))\n",
    "\n",
    "    print(\"\\n\" + BOLD_START + \"Rozlisovacie ulohy\" + BOLD_END)\n",
    "    print(\"Silhuette score \" + str(stats.f_oneway(DTW[:3], LCS[:3], LEV[:3])))\n",
    "    print(\"Feature Importance \" + str(stats.f_oneway(IDTW[:3], ILCS[:3], ILEV[:3])))\n",
    "\n",
    "    print(\"\\n\" + BOLD_START + \"Obycajne ulohy\" + BOLD_END)\n",
    "    print(\"Silhuette score \" + str(stats.f_oneway(DTW[3:], LCS[3:], LEV[3:])))\n",
    "    print(\"Feature Importance \" + str(stats.f_oneway(IDTW[3:], ILCS[3:], ILEV[3:])))\n",
    "\n",
    "    print(\"\\n\")\n",
    "    col = [\"Mean\" , \"95% CI\", \"STD\" , \"Feature importance\"]\n",
    "    overalldf = pd.DataFrame.from_dict(overall, orient=\"index\", columns=col)\n",
    "    diffdf = pd.DataFrame.from_dict(diff, orient=\"index\", columns=col)\n",
    "    classicdf = pd.DataFrame.from_dict(classic, orient=\"index\", columns=col)\n",
    "    \n",
    "    \n",
    "    print(BOLD_START + \"Silhouette score mean, 95% Confidence interval, STD and feature importance mean\" + BOLD_END)\n",
    "    print(BOLD_START + \"Overall\" + BOLD_END)\n",
    "    print(BOLD_START + \"DTW \" + BOLD_END + str(round(st.mean(DTW),3)) + \" | \" + confidence_interval(DTW) + \" | \" + BOLD_START + \" STD \" + BOLD_END + str(round(stats.tstd(DTW),3)) + \" | \" + BOLD_START + \"Importance \" + BOLD_END + str(round(st.mean(IDTW),3)))\n",
    "    print(BOLD_START + \"LCS \" + BOLD_END + str(round(st.mean(LCS),3))+ \" | \" + confidence_interval(LCS) + \" | \" + BOLD_START + \" STD \" + BOLD_END + str(round(stats.tstd(LCS),3)) + \" | \" + BOLD_START + \"Importance \" + BOLD_END + str(round(st.mean(ILCS),3)))\n",
    "    print(BOLD_START + \"LEV \" + BOLD_END + str(round(st.mean(LEV),3))+ \" | \" + confidence_interval(LEV) + \" | \" + BOLD_START + \" STD \" + BOLD_END + str(round(stats.tstd(LEV),3)) + \" | \" + BOLD_START + \"Importance \" + BOLD_END + str(round(st.mean(ILEV),3)))\n",
    "    print(\"\\n\")\n",
    "    print(overalldf)\n",
    "    print(\"----------------------------------------------------------------------------------\")\n",
    "    \n",
    "    print(\"\\n\" + BOLD_START + \"Rozlisovacie ulohy\" + BOLD_END)\n",
    "    print(BOLD_START + \"DTW \" + BOLD_END + str(round(st.mean(DTW[:3]),3))+ \" | \" + confidence_interval(DTW[:3]) + \" | \" + BOLD_START + \" STD \" + BOLD_END + str(round(stats.tstd(DTW[:3]),3)) + \" | \" + BOLD_START + \"Importance \" + BOLD_END + str(round(st.mean(IDTW[:3]),3)))\n",
    "    print(BOLD_START + \"LCS \" + BOLD_END + str(round(st.mean(LCS[:3]),3))+ \" | \" + confidence_interval(LCS[:3]) + \" | \" + BOLD_START + \" STD \" + BOLD_END + str(round(stats.tstd(LCS[:3]),3)) + \" | \" + BOLD_START + \"Importance \" + BOLD_END + str(round(st.mean(ILCS[:3]),3)))\n",
    "    print(BOLD_START + \"LEV \" + BOLD_END + str(round(st.mean(LEV[:3]),3))+ \" | \" + confidence_interval(LEV[:3]) + \" | \" + BOLD_START + \" STD \" + BOLD_END + str(round(stats.tstd(LEV[:3]),3)) + \" | \" + BOLD_START + \"Importance \" + BOLD_END + str(round(st.mean(ILEV[:3]),3)))\n",
    "    print(\"\\n\")\n",
    "    print(diffdf)\n",
    "    print(\"----------------------------------------------------------------------------------\")\n",
    "    \n",
    "    print(\"\\n\" + BOLD_START + \"Obycajne ulohy\" + BOLD_END)\n",
    "    print(BOLD_START + \"DTW \" + BOLD_END + str(round(st.mean(DTW[3:]),3))+ \" | \" + confidence_interval(DTW[3:]) + \" | \" + BOLD_START + \" STD \" + BOLD_END + str(round(stats.tstd(DTW[3:]),3)) + \" | \" + BOLD_START + \"Importance \" + BOLD_END + str(round(st.mean(IDTW[3:]),3)))\n",
    "    print(BOLD_START + \"LCS \" + BOLD_END + str(round(st.mean(LCS[3:]),3))+ \" | \" + confidence_interval(LCS[3:]) + \" | \" + BOLD_START + \" STD \" + BOLD_END + str(round(stats.tstd(LCS[3:]),3)) + \" | \" + BOLD_START + \"Importance \" + BOLD_END + str(round(st.mean(ILCS[3:]),3)))\n",
    "    print(BOLD_START + \"LEV \" + BOLD_END + str(round(st.mean(LEV[3:]),3))+ \" | \" + confidence_interval(LEV[3:]) + \" | \" + BOLD_START + \" STD \" + BOLD_END + str(round(stats.tstd(LEV[3:]),3)) + \" | \" + BOLD_START + \"Importance \" + BOLD_END + str(round(st.mean(ILEV[3:]),3)))\n",
    "    print(\"\\n\")\n",
    "    print(classicdf)\n",
    "    \n",
    "    return overalldf, diffdf, classicdf\n",
    "\n",
    "# https://kite.com/python/examples/702/scipy-compute-a-confidence-interval-from-a-dataset\n",
    "def confidence_interval(data, print=True, confidence = .95):\n",
    "    n = len(data)\n",
    "    m = mean(data)\n",
    "    std_err = stats.sem(data)\n",
    "    h = std_err * stats.t.ppf((1 + confidence) / 2, n - 1)\n",
    "\n",
    "    start = round(m - h,3)\n",
    "    end = round(m + h,3)\n",
    "    \n",
    "    if(print):\n",
    "        return str(BOLD_START + \"Confidence interal - \" + BOLD_END + \"(\" + str(start) + \", \" + str(end) + \") \")\n",
    "    else:\n",
    "        return str(str(start) + \", \" + str(end))\n",
    "\n",
    "def show_boxplots(DTW, LCS, LEV):\n",
    "    my_dict = {'DTW': DTW, 'LCS': LCS, 'LEV':LEV}\n",
    "\n",
    "    fig, ax = plt.subplots()\n",
    "    ax.boxplot(my_dict.values())\n",
    "    ax.set_xticklabels(my_dict.keys())"
   ]
  },
  {
   "cell_type": "code",
   "execution_count": null,
   "metadata": {},
   "outputs": [],
   "source": []
  }
 ],
 "metadata": {
  "kernelspec": {
   "display_name": "Python 3",
   "language": "python",
   "name": "python3"
  },
  "language_info": {
   "codemirror_mode": {
    "name": "ipython",
    "version": 3
   },
   "file_extension": ".py",
   "mimetype": "text/x-python",
   "name": "python",
   "nbconvert_exporter": "python",
   "pygments_lexer": "ipython3",
   "version": "3.7.0"
  }
 },
 "nbformat": 4,
 "nbformat_minor": 2
}
