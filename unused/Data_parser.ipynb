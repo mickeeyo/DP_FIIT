{
 "cells": [
  {
   "cell_type": "markdown",
   "metadata": {},
   "source": [
    "# DATA PARSER"
   ]
  },
  {
   "cell_type": "code",
   "execution_count": 2,
   "metadata": {},
   "outputs": [],
   "source": [
    "%matplotlib notebook\n",
    "\n",
    "import pandas as pd\n",
    "import matplotlib.pyplot as plt\n",
    "from shapely.geometry import Point, Polygon\n",
    "import glob\n",
    "from IPython.display import clear_output\n",
    "import numpy as np"
   ]
  },
  {
   "cell_type": "code",
   "execution_count": 103,
   "metadata": {
    "scrolled": true
   },
   "outputs": [
    {
     "data": {
      "text/plain": [
       "array([nan, 'IE_O', 'V1_190x120.png', 'V2_950x120.png', 'V3_1710x120.png',\n",
       "       'V4_190x600.png', 'V5_950x600.png', 'V6_1710x600.png',\n",
       "       'V7_190x1080.png', 'V8_950x1080.png', 'V9_1710x1080.png',\n",
       "       'VA_950x600.png', 'VB_950x600.png', 'VC_950x600.png',\n",
       "       'VD_950x600.png', 'IE_uvod', 'IE_1', 'https://www.alza.sk/',\n",
       "       'https://www.alza.sk/muj-ucet/profil',\n",
       "       'https://www.alza.sk/muj-ucet/profil?layoutAutoChange=1',\n",
       "       'https://www.alza.sk/muj-ucet/objednavky.htm',\n",
       "       'https://www.alza.sk/muj-ucet/objednavka-169446698.htm', 'IE_2',\n",
       "       'https://www.alza.sk/sony-cybershot-dsc-w800?dq=601733', 'IE_8',\n",
       "       'IE_3', 'https://www.alza.sk/zlavove-tornado',\n",
       "       'https://www.alza.sk/vypredaj/u0.htm',\n",
       "       'https://www.alza.sk/vypredaj/u0.htm#f&cst=0&pg=1&pn=1&prod=',\n",
       "       'IE_7',\n",
       "       'https://www.alza.sk/sony-cybershot-dsc-w800?dq=601733#recenze',\n",
       "       'IE_4', 'https://www.alza.sk/digitalne-fotoaparaty/18843129.htm',\n",
       "       'https://www.alza.sk/digitalne-fotoaparaty/18843129.htm#f&limit=200---1&cst=0&pg=1&prod=&sc=853',\n",
       "       'https://www.alza.sk/digitalne-fotoaparaty/18843129.htm#f&limit=200---1&cst=0&pg=1&pn=1&prod=&sc=853',\n",
       "       'https://www.alza.sk/lacne-digitalne-fotoaparaty/18843129.htm#f&limit=200---1&cst=0&pg=1&pn=1&prod=&sc=853',\n",
       "       'IE_6', 'https://www.alza.sk/canon-eos-m10?dq=3753223',\n",
       "       'https://www.alza.sk/porovnani.htm?c=OC065h5c;',\n",
       "       'https://www.alza.sk/canon-powershot-g7-x-mark-ii?dq=4059023',\n",
       "       'https://www.alza.sk/porovnani.htm?c=OC065h5c;OC063k92;', 'IE_5',\n",
       "       'https://www.alza.sk/slovnik/detekcia-tvare-art4449.htm', 'IE_OB',\n",
       "       'IE_dot',\n",
       "       'https://docs.google.com/forms/d/e/1FAIpQLScpXehOlSWnlVp6Srtb5fUxCQo_WyizVOgRrmK8lWPhhMP4NQ/viewform?usp=send_form',\n",
       "       'https://docs.google.com/forms/d/e/1FAIpQLScpXehOlSWnlVp6Srtb5fUxCQo_WyizVOgRrmK8lWPhhMP4NQ/viewform',\n",
       "       'https://docs.google.com/forms/d/e/1FAIpQLScpXehOlSWnlVp6Srtb5fUxCQo_WyizVOgRrmK8lWPhhMP4NQ/viewform?fbzx=6933574040566096000',\n",
       "       'https://docs.google.com/forms/d/e/1FAIpQLScpXehOlSWnlVp6Srtb5fUxCQo_WyizVOgRrmK8lWPhhMP4NQ/formResponse'],\n",
       "      dtype=object)"
      ]
     },
     "execution_count": 103,
     "metadata": {},
     "output_type": "execute_result"
    }
   ],
   "source": [
    "df9 = df1['StudioEventData']\n",
    "df9.unique()"
   ]
  },
  {
   "cell_type": "markdown",
   "metadata": {},
   "source": [
    "## Main work"
   ]
  },
  {
   "cell_type": "markdown",
   "metadata": {},
   "source": [
    "##### Existuju separatne subory .tsv pre kazdeho testera a v nich ma kazdy tester data pre ulohy 1 az 8. Tieto data chceme spojit a mat ich rozdelene jednotlivo po jednotlivych taskoch v .tsv file"
   ]
  },
  {
   "cell_type": "markdown",
   "metadata": {},
   "source": [
    "Nacitam si vsetky nazvy tsv suborov z priecinka tzv. vsetkych testerov"
   ]
  },
  {
   "cell_type": "code",
   "execution_count": 3,
   "metadata": {},
   "outputs": [],
   "source": [
    "path = './data_by_testers'\n",
    "\n",
    "testers_names = []\n",
    "file_paths = glob.glob(path + '/*.tsv')\n",
    "file_names = []\n",
    "# structure 'path\\\\name_of_file.format'\n",
    "for f in file_paths:\n",
    "    file_names.append(f.replace(\"\\\\\",\"/\"))\n",
    "    testers_names.append(f[15:23])\n"
   ]
  },
  {
   "cell_type": "markdown",
   "metadata": {},
   "source": [
    "Nacitam si z nazvom jednotlivych testerov a ulozim do do pola dataframov - df_testers[]"
   ]
  },
  {
   "cell_type": "code",
   "execution_count": 4,
   "metadata": {},
   "outputs": [
    {
     "name": "stdout",
     "output_type": "stream",
     "text": [
      "Done\n"
     ]
    }
   ],
   "source": [
    "missing_columns = ['[Q01]Value', '[Q01_1]Value', '[Q01_1_1]Value', '[Q01_1_1_1]Value', \n",
    "                   '[Q01_1_1_1_1]Value', '[Q01_1_1_1_1_1]Value', '[Q01_1_1_1_1_1_1]Value', '[Q01_1_1_1_1_1_1_1]Value']\n",
    "\n",
    "df_testers = {}\n",
    "\n",
    "for f in file_names:\n",
    "    df_testers[f[15:23]] = pd.read_csv(f, sep=\"\\t\",low_memory=False)\n",
    "    \n",
    "    if(len(df_testers[f[15:23]].columns.values) == 82):\n",
    "        index = 5\n",
    "        for col in missing_columns:\n",
    "            df_testers[f[15:23]].insert(loc = index, column = col, value = np.nan)\n",
    "            index += 1\n",
    "            \n",
    "    name_last_column = df_testers[f[15:23]].iloc[:,-1].name\n",
    "    df_testers[f[15:23]] = df_testers[f[15:23]].drop(columns=[name_last_column])\n",
    "    \n",
    "print(\"Done\")"
   ]
  },
  {
   "cell_type": "markdown",
   "metadata": {},
   "source": [
    "Trieda Tester, pre kazdeho testera bude mat svoje data rozdelene podla taskov - task 1 az 8"
   ]
  },
  {
   "cell_type": "code",
   "execution_count": 5,
   "metadata": {},
   "outputs": [],
   "source": [
    "class Tester:\n",
    "\n",
    "    def __init__(self):\n",
    "        self.tasks = {}\n",
    "       \n",
    "    def assign(self, name, data):\n",
    "         self.tasks[name] = data\n",
    "     "
   ]
  },
  {
   "cell_type": "markdown",
   "metadata": {},
   "source": [
    "Funkcia, ktora pre testera z pola (podla indexu) vyberie data, rozdeli a utriedi podla taskov od 1 po 8 s jednotlivymi indexami odkial pokial su data pre dany task (ulohu) a vrati indexy"
   ]
  },
  {
   "cell_type": "code",
   "execution_count": 5,
   "metadata": {},
   "outputs": [],
   "source": [
    "def get_user_task(df_testers):\n",
    "    \"\"\"\n",
    "    :param df_testers - all user's data\n",
    "    @return indexes - indexes of each user's task\n",
    "    \"\"\"\n",
    "    df_temp = df_testers['StudioEventData'] \n",
    "    _d = []\n",
    "    for i in range(1,9):\n",
    "        _d.append([\"IE_\"+str(i), df_temp[df_temp == \"IE_\"+str(i)].index.values])\n",
    "        \n",
    "    # sort values based on STARTING POINT of given task\n",
    "    tester_sorted = sorted(_d, key=lambda x: x[1][0])\n",
    "    \n",
    "    #length_of_dataset = len(df_testers[user_index])\n",
    "    length_of_dataset = len(df_testers)\n",
    "    indexes = []\n",
    "    \n",
    "    # saving indexes\n",
    "    indexes.append([tester_sorted[0][0], [tester_sorted[0][1][0], tester_sorted[1][1][0]]])\n",
    "\n",
    "    for j in range(1,len(tester_sorted) - 1):\n",
    "        indexes.append([tester_sorted[j][0], [tester_sorted[j][1][0], tester_sorted[j+1][1][0]]])\n",
    "    \n",
    "    #index pred koncom testu, kde uz zacina IE_OB\n",
    "    try:\n",
    "        last_index = df_temp[df_temp == \"IE_OB\"].index.values[0]\n",
    "    except:\n",
    "        print(\"Didnt find IE_OB. Trying to find IE_dot\")\n",
    "        try:\n",
    "            last_index = df_temp[df_temp == \"IE_dot\"].index.values[0]\n",
    "        except:\n",
    "            print(\"Didnt find IE_OB or IE_dot\")\n",
    "            \n",
    "    indexes.append([tester_sorted[j + 1][0], [tester_sorted[j + 1][1][0], last_index]])\n",
    "    \n",
    "    return indexes\n",
    " "
   ]
  },
  {
   "cell_type": "markdown",
   "metadata": {},
   "source": [
    "Pre testerov najde indexy jednotlivych uloh z dat, vytvori instanciu triedy Tester a ulozi ju do pola vsetkych testerov"
   ]
  },
  {
   "cell_type": "code",
   "execution_count": 6,
   "metadata": {
    "scrolled": true
   },
   "outputs": [
    {
     "name": "stdout",
     "output_type": "stream",
     "text": [
      "Didnt find IE_OB. Trying to find IE_dot\n",
      "Didnt find IE_OB. Trying to find IE_dot\n",
      "Didnt find IE_OB. Trying to find IE_dot\n",
      "Didnt find IE_OB. Trying to find IE_dot\n",
      "Didnt find IE_OB. Trying to find IE_dot\n",
      "Didnt find IE_OB. Trying to find IE_dot\n",
      "Didnt find IE_OB. Trying to find IE_dot\n",
      "Didnt find IE_OB. Trying to find IE_dot\n",
      "Didnt find IE_OB. Trying to find IE_dot\n",
      "Didnt find IE_OB. Trying to find IE_dot\n",
      "Done\n"
     ]
    }
   ],
   "source": [
    "\"\"\"\n",
    "Get tasks for each user and create instance of class\n",
    "\"\"\"\n",
    "users = {}\n",
    "for tester in df_testers:\n",
    "    \n",
    "    _user_tasks = get_user_task(df_testers[tester])\n",
    "    users[tester] = Tester()\n",
    "    \n",
    "    for u in _user_tasks:\n",
    "        start = u[1][0]\n",
    "        end = u[1][1]\n",
    "        \n",
    "        users[tester].assign(u[0], df_testers[tester][start:end])\n",
    "    \n",
    "print(\"Done\")"
   ]
  },
  {
   "cell_type": "code",
   "execution_count": 121,
   "metadata": {},
   "outputs": [],
   "source": [
    "def transform_data_based_on_task(users):\n",
    "    # Nazvy taskov\n",
    "    task_names = [\"IE_1\", \"IE_2\", \"IE_3\", \"IE_4\", \"IE_5\", \"IE_6\", \"IE_7\", \"IE_8\"]\n",
    "    total_length = 0\n",
    "\n",
    "    for task_name in task_names:\n",
    "        clear_output()\n",
    "        print(\"Working on \" + task_name)\n",
    "        df_fin = pd.DataFrame()\n",
    "        for tester_name in users:\n",
    "            print(\"* Working on \" + tester_name)\n",
    "            #print(\" * \" + tester_name + \" - \" + str(len(users[tester_name].tasks[task_name].columns.values)))\n",
    "            df_fin = df_fin.append(users[tester_name].tasks[task_name])\n",
    "            #print(users[tester_name].tasks[task_name].iloc[:,-1].name)\n",
    "\n",
    "        total_length += len(df_fin)\n",
    "        print(\"Writing....\")\n",
    "        df_fin.to_csv(\"data_by_tasks/\" + task_name + \".tsv\", sep=\"\\t\", index=False)\n",
    "\n",
    "\n",
    "    print(\"Done\")\n",
    "    print(total_length)"
   ]
  },
  {
   "cell_type": "code",
   "execution_count": 134,
   "metadata": {
    "scrolled": true
   },
   "outputs": [],
   "source": [
    "transform_data_based_on_task()"
   ]
  },
  {
   "cell_type": "markdown",
   "metadata": {},
   "source": [
    "## Calibration data"
   ]
  },
  {
   "cell_type": "code",
   "execution_count": 66,
   "metadata": {},
   "outputs": [],
   "source": [
    "def get_user_calibration_task(df_testers):\n",
    "    \"\"\"\n",
    "    :param df_testers - all user's data\n",
    "    @return indexes - indexes of each user's task\n",
    "    \"\"\"\n",
    "    calib = ['V1_190x120.png', 'V2_950x120.png', 'V3_1710x120.png',\n",
    "       'V4_190x600.png', 'V5_950x600.png', 'V6_1710x600.png',\n",
    "       'V7_190x1080.png', 'V8_950x1080.png', 'V9_1710x1080.png',\n",
    "       'VA_950x600.png', 'VB_950x600.png', 'VC_950x600.png',\n",
    "       'VD_950x600.png']\n",
    "    \n",
    "    df_temp = df_testers['StudioEventData'] \n",
    "    _d = []\n",
    "    for c in calib:\n",
    "        ind_values = df_temp[df_temp == c].index.values\n",
    "        #if(len(ind_values) > 2):\n",
    "           # _d.append([c, ind_values[0:2], ind_values[2:4]])\n",
    "        #else:\n",
    "        _d.append([c, ind_values[0:2]])\n",
    "      \n",
    "    # sort values based on STARTING POINT of given task\n",
    "    tester_sorted = sorted(_d, key=lambda x: x[1][0])\n",
    "    \n",
    "    #print(tester_sorted)\n",
    "    \n",
    "    #length_of_dataset = len(df_testers[user_index])\n",
    "    length_of_dataset = len(df_testers)\n",
    "    indexes = []\n",
    "    \n",
    "    # saving indexes\n",
    "    indexes.append([tester_sorted[0][0], [tester_sorted[0][1][0], tester_sorted[1][1][0]]])\n",
    "\n",
    "    for j in range(1,len(tester_sorted) - 1):\n",
    "        indexes.append([tester_sorted[j][0], [tester_sorted[j][1][0], tester_sorted[j+1][1][0]]])\n",
    "    \n",
    "    #index pred koncom testu, kde uz zacina IE_OB\n",
    "    try:\n",
    "        last_index = df_temp[df_temp == 'IE_uvod'].index.values[0]\n",
    "    except:\n",
    "        print(\"Didnt find IE_uvod.\")\n",
    "    \n",
    "    indexes.append([tester_sorted[j + 1][0], [tester_sorted[j + 1][1][0], last_index]])\n",
    "    \n",
    "    return indexes\n",
    " "
   ]
  },
  {
   "cell_type": "code",
   "execution_count": 87,
   "metadata": {},
   "outputs": [],
   "source": [
    "def get_user_calibration_task_second(df_testers):\n",
    "    \"\"\"\n",
    "    :param df_testers - all user's data\n",
    "    @return indexes - indexes of each user's task\n",
    "    \"\"\"\n",
    "    calib = ['V1_190x120.png', 'V2_950x120.png', 'V3_1710x120.png',\n",
    "       'V4_190x600.png', 'V5_950x600.png', 'V6_1710x600.png',\n",
    "       'V7_190x1080.png', 'V8_950x1080.png', 'V9_1710x1080.png']\n",
    "    \n",
    "    df_temp = df_testers['StudioEventData'] \n",
    "    _d = []\n",
    "    for c in calib:\n",
    "        ind_values = df_temp[df_temp == c].index.values\n",
    "        if(len(ind_values) > 2):\n",
    "            _d.append([c, ind_values[2:4]])\n",
    "      \n",
    "    if(len(ind_values) > 2):\n",
    "        # sort values based on STARTING POINT of given task\n",
    "        tester_sorted = sorted(_d, key=lambda x: x[1][0])\n",
    "\n",
    "        #print(tester_sorted)\n",
    "\n",
    "        #length_of_dataset = len(df_testers[user_index])\n",
    "        length_of_dataset = len(df_testers)\n",
    "        indexes = []\n",
    "\n",
    "        # saving indexes\n",
    "        indexes.append([tester_sorted[0][0], [tester_sorted[0][1][0], tester_sorted[1][1][0]]])\n",
    "\n",
    "        for j in range(1,len(tester_sorted) - 1):\n",
    "            indexes.append([tester_sorted[j][0], [tester_sorted[j][1][0], tester_sorted[j+1][1][0]]])\n",
    "\n",
    "        #index pred koncom testu, kde uz zacina IE_OB\n",
    "        try:\n",
    "            last_index = df_temp[df_temp == 'VA_950x600.png'].index.values[3]\n",
    "        except:\n",
    "            print(\"Didnt find VA_950x600.png.\")\n",
    "\n",
    "        indexes.append([tester_sorted[j + 1][0], [tester_sorted[j + 1][1][0], last_index]])\n",
    "\n",
    "        return indexes\n",
    "    else:\n",
    "        return 0"
   ]
  },
  {
   "cell_type": "code",
   "execution_count": 32,
   "metadata": {},
   "outputs": [],
   "source": [
    "def transform_calibration_data_based_on_task(users):\n",
    "    # Nazvy taskov\n",
    "    \n",
    "    task_names = ['V1_190x120.png', 'V2_950x120.png', 'V3_1710x120.png',\n",
    "       'V4_190x600.png', 'V5_950x600.png', 'V6_1710x600.png',\n",
    "       'V7_190x1080.png', 'V8_950x1080.png', 'V9_1710x1080.png',\n",
    "       'VA_950x600.png', 'VB_950x600.png', 'VC_950x600.png',\n",
    "       'VD_950x600.png']\n",
    "    \n",
    "    total_length = 0\n",
    "\n",
    "    for task_name in task_names:\n",
    "        clear_output()\n",
    "        print(\"Working on \" + task_name)\n",
    "        df_fin = pd.DataFrame()\n",
    "        for tester_name in users:\n",
    "            print(\"* Working on \" + tester_name)\n",
    "            #print(\" * \" + tester_name + \" - \" + str(len(users[tester_name].tasks[task_name].columns.values)))\n",
    "            df_fin = df_fin.append(users[tester_name].tasks[task_name])\n",
    "            #print(users[tester_name].tasks[task_name].iloc[:,-1].name)\n",
    "\n",
    "        total_length += len(df_fin)\n",
    "        print(\"Writing....\")\n",
    "        df_fin.to_csv(\"calibration_data_by_tasks/\" + task_name[0:len(task_name)-4] + \".tsv\", sep=\"\\t\", index=False)\n",
    "\n",
    "\n",
    "    print(\"Done\")\n",
    "    print(total_length)"
   ]
  },
  {
   "cell_type": "code",
   "execution_count": 25,
   "metadata": {},
   "outputs": [
    {
     "name": "stdout",
     "output_type": "stream",
     "text": [
      "Done\n"
     ]
    }
   ],
   "source": [
    "\"\"\"\n",
    "Get tasks for each user and create instance of class\n",
    "\"\"\"\n",
    "users_calib = {}\n",
    "for tester in df_testers:\n",
    "    \n",
    "    _user_tasks = get_user_calibration_task(df_testers[tester])\n",
    "    users_calib[tester] = Tester()\n",
    "    \n",
    "    for u in _user_tasks:\n",
    "        start = u[1][0]\n",
    "        end = u[1][1]\n",
    "        \n",
    "        users_calib[tester].assign(u[0], df_testers[tester][start:end])\n",
    "    \n",
    "print(\"Done\")"
   ]
  },
  {
   "cell_type": "code",
   "execution_count": 33,
   "metadata": {
    "scrolled": true
   },
   "outputs": [
    {
     "name": "stdout",
     "output_type": "stream",
     "text": [
      "Working on VD_950x600.png\n",
      "* Working on tester56\n",
      "* Working on tester22\n",
      "* Working on tester60\n",
      "* Working on tester34\n",
      "* Working on tester46\n",
      "* Working on tester09\n",
      "* Working on tester33\n",
      "* Working on tester41\n",
      "* Working on tester48\n",
      "* Working on tester59\n",
      "* Working on tester44\n",
      "* Working on tester64\n",
      "* Working on tester14\n",
      "* Working on tester31\n",
      "* Working on tester53\n",
      "* Working on tester08\n",
      "* Working on tester12\n",
      "* Working on tester54\n",
      "* Working on tester38\n",
      "* Working on tester61\n",
      "* Working on tester66\n",
      "* Working on tester13\n",
      "* Working on tester69\n",
      "* Working on tester17\n",
      "* Working on tester37\n",
      "* Working on tester58\n",
      "* Working on tester47\n",
      "* Working on tester20\n",
      "* Working on tester07\n",
      "* Working on tester29\n",
      "* Working on tester36\n",
      "* Working on tester49\n",
      "* Working on tester52\n",
      "* Working on tester21\n",
      "* Working on tester50\n",
      "* Working on tester27\n",
      "* Working on tester10\n",
      "* Working on tester35\n",
      "* Working on tester25\n",
      "* Working on tester65\n",
      "* Working on tester68\n",
      "* Working on tester39\n",
      "* Working on tester40\n",
      "* Working on tester43\n",
      "* Working on tester55\n",
      "* Working on tester28\n",
      "* Working on tester18\n",
      "* Working on tester11\n",
      "* Working on tester26\n",
      "* Working on tester32\n",
      "* Working on tester24\n",
      "* Working on tester57\n",
      "* Working on tester70\n",
      "* Working on tester71\n",
      "* Working on tester30\n",
      "* Working on tester63\n",
      "* Working on tester42\n",
      "* Working on tester51\n",
      "Writing....\n",
      "Done\n",
      "233428\n",
      "Done\n"
     ]
    }
   ],
   "source": [
    "transform_calibration_data_based_on_task(users_calib)\n",
    "print(\"Done\")"
   ]
  },
  {
   "cell_type": "code",
   "execution_count": 89,
   "metadata": {},
   "outputs": [
    {
     "name": "stdout",
     "output_type": "stream",
     "text": [
      "Done\n"
     ]
    }
   ],
   "source": [
    "\"\"\"\n",
    "Get tasks for each user and create instance of class\n",
    "\"\"\"\n",
    "users_calib_second = {}\n",
    "for tester in df_testers:\n",
    "    \n",
    "    _user_tasks = get_user_calibration_task_second(df_testers[tester])\n",
    "    if(_user_tasks != 0):\n",
    "        users_calib_second[tester] = Tester()\n",
    "\n",
    "        for u in _user_tasks:\n",
    "            start = u[1][0]\n",
    "            end = u[1][1]\n",
    "\n",
    "            users_calib_second[tester].assign(u[0], df_testers[tester][start:end])\n",
    "    else:\n",
    "        continue\n",
    "    \n",
    "print(\"Done\")"
   ]
  },
  {
   "cell_type": "code",
   "execution_count": 92,
   "metadata": {},
   "outputs": [],
   "source": [
    "def transform_calibration_data_based_on_task_second(users):\n",
    "    # Nazvy taskov\n",
    "    \n",
    "    task_names = ['V1_190x120.png', 'V2_950x120.png', 'V3_1710x120.png',\n",
    "       'V4_190x600.png', 'V5_950x600.png', 'V6_1710x600.png',\n",
    "       'V7_190x1080.png', 'V8_950x1080.png', 'V9_1710x1080.png']\n",
    "    \n",
    "    total_length = 0\n",
    "\n",
    "    for task_name in task_names:\n",
    "        clear_output()\n",
    "        print(\"Working on \" + task_name)\n",
    "        #df_fin = pd.DataFrame()\n",
    "        df_fin = pd.read_csv(\"calibration_data_by_tasks0/\" + task_name[0:len(task_name)-4] + \".tsv\", low_memory=False, sep=\"\\t\")\n",
    "        for tester_name in users:\n",
    "            print(\"* Working on \" + tester_name)\n",
    "            #print(\" * \" + tester_name + \" - \" + str(len(users[tester_name].tasks[task_name].columns.values)))\n",
    "            df_fin = df_fin.append(users[tester_name].tasks[task_name])\n",
    "            #print(users[tester_name].tasks[task_name].iloc[:,-1].name)\n",
    "\n",
    "        total_length += len(df_fin)\n",
    "        print(\"Writing....\")\n",
    "        df_fin.to_csv(\"calib_data_full/\" + task_name[0:len(task_name)-4] + \".tsv\", sep=\"\\t\", index=False)\n",
    "\n",
    "\n",
    "    print(\"Done\")\n",
    "    print(total_length)"
   ]
  },
  {
   "cell_type": "code",
   "execution_count": 93,
   "metadata": {
    "scrolled": true
   },
   "outputs": [
    {
     "name": "stdout",
     "output_type": "stream",
     "text": [
      "Working on V9_1710x1080.png\n",
      "* Working on tester61\n",
      "* Working on tester32\n",
      "* Working on tester57\n",
      "* Working on tester53\n",
      "* Working on tester60\n",
      "* Working on tester26\n",
      "* Working on tester22\n",
      "* Working on tester66\n",
      "* Working on tester36\n",
      "* Working on tester58\n",
      "* Working on tester40\n",
      "* Working on tester33\n",
      "* Working on tester70\n",
      "* Working on tester52\n",
      "* Working on tester51\n",
      "* Working on tester28\n",
      "* Working on tester21\n",
      "* Working on tester29\n",
      "* Working on tester50\n",
      "* Working on tester44\n",
      "* Working on tester71\n",
      "* Working on tester24\n",
      "* Working on tester48\n",
      "* Working on tester64\n",
      "* Working on tester46\n",
      "* Working on tester38\n",
      "* Working on tester25\n",
      "* Working on tester47\n",
      "* Working on tester65\n",
      "* Working on tester41\n",
      "* Working on tester27\n",
      "* Working on tester42\n",
      "* Working on tester37\n",
      "* Working on tester31\n",
      "* Working on tester63\n",
      "* Working on tester49\n",
      "* Working on tester55\n",
      "* Working on tester30\n",
      "* Working on tester56\n",
      "* Working on tester34\n",
      "* Working on tester54\n",
      "* Working on tester69\n",
      "* Working on tester20\n",
      "* Working on tester43\n",
      "* Working on tester39\n",
      "* Working on tester68\n",
      "* Working on tester59\n",
      "* Working on tester35\n",
      "Writing....\n",
      "Done\n",
      "306066\n"
     ]
    }
   ],
   "source": [
    "transform_calibration_data_based_on_task_second(users_calib_second)"
   ]
  },
  {
   "cell_type": "code",
   "execution_count": null,
   "metadata": {},
   "outputs": [],
   "source": []
  },
  {
   "cell_type": "markdown",
   "metadata": {},
   "source": [
    "### TESTING"
   ]
  },
  {
   "cell_type": "code",
   "execution_count": 94,
   "metadata": {},
   "outputs": [],
   "source": [
    "dataset = pd.read_csv(\"calib_data_full/V1_190x120.tsv\", low_memory=False, sep=\"\\t\")"
   ]
  },
  {
   "cell_type": "code",
   "execution_count": 97,
   "metadata": {},
   "outputs": [
    {
     "data": {
      "text/plain": [
       "58"
      ]
     },
     "execution_count": 97,
     "metadata": {},
     "output_type": "execute_result"
    }
   ],
   "source": [
    "len(dataset['ParticipantName'].unique())"
   ]
  },
  {
   "cell_type": "code",
   "execution_count": 53,
   "metadata": {},
   "outputs": [
    {
     "data": {
      "text/html": [
       "<div>\n",
       "<style scoped>\n",
       "    .dataframe tbody tr th:only-of-type {\n",
       "        vertical-align: middle;\n",
       "    }\n",
       "\n",
       "    .dataframe tbody tr th {\n",
       "        vertical-align: top;\n",
       "    }\n",
       "\n",
       "    .dataframe thead th {\n",
       "        text-align: right;\n",
       "    }\n",
       "</style>\n",
       "<table border=\"1\" class=\"dataframe\">\n",
       "  <thead>\n",
       "    <tr style=\"text-align: right;\">\n",
       "      <th></th>\n",
       "      <th>ExportDate</th>\n",
       "      <th>StudioVersionRec</th>\n",
       "      <th>StudioProjectName</th>\n",
       "      <th>StudioTestName</th>\n",
       "      <th>ParticipantName</th>\n",
       "      <th>[Q01]Value</th>\n",
       "      <th>[Q01_1]Value</th>\n",
       "      <th>[Q01_1_1]Value</th>\n",
       "      <th>[Q01_1_1_1]Value</th>\n",
       "      <th>[Q01_1_1_1_1]Value</th>\n",
       "      <th>...</th>\n",
       "      <th>CamRightY</th>\n",
       "      <th>DistanceLeft</th>\n",
       "      <th>DistanceRight</th>\n",
       "      <th>PupilLeft</th>\n",
       "      <th>PupilRight</th>\n",
       "      <th>ValidityLeft</th>\n",
       "      <th>ValidityRight</th>\n",
       "      <th>IRMarkerCount</th>\n",
       "      <th>IRMarkerID</th>\n",
       "      <th>PupilGlassesRight</th>\n",
       "    </tr>\n",
       "  </thead>\n",
       "  <tbody>\n",
       "    <tr>\n",
       "      <th>789</th>\n",
       "      <td>02/03/2018</td>\n",
       "      <td>3.4.8</td>\n",
       "      <td>DP_oboznamenost</td>\n",
       "      <td>New test</td>\n",
       "      <td>tester08</td>\n",
       "      <td>NaN</td>\n",
       "      <td>NaN</td>\n",
       "      <td>NaN</td>\n",
       "      <td>NaN</td>\n",
       "      <td>NaN</td>\n",
       "      <td>...</td>\n",
       "      <td>NaN</td>\n",
       "      <td>NaN</td>\n",
       "      <td>NaN</td>\n",
       "      <td>NaN</td>\n",
       "      <td>NaN</td>\n",
       "      <td>NaN</td>\n",
       "      <td>NaN</td>\n",
       "      <td>NaN</td>\n",
       "      <td>NaN</td>\n",
       "      <td>NaN</td>\n",
       "    </tr>\n",
       "    <tr>\n",
       "      <th>1091</th>\n",
       "      <td>02/03/2018</td>\n",
       "      <td>3.4.8</td>\n",
       "      <td>DP_oboznamenost</td>\n",
       "      <td>New test</td>\n",
       "      <td>tester08</td>\n",
       "      <td>NaN</td>\n",
       "      <td>NaN</td>\n",
       "      <td>NaN</td>\n",
       "      <td>NaN</td>\n",
       "      <td>NaN</td>\n",
       "      <td>...</td>\n",
       "      <td>NaN</td>\n",
       "      <td>NaN</td>\n",
       "      <td>NaN</td>\n",
       "      <td>NaN</td>\n",
       "      <td>NaN</td>\n",
       "      <td>NaN</td>\n",
       "      <td>NaN</td>\n",
       "      <td>NaN</td>\n",
       "      <td>NaN</td>\n",
       "      <td>NaN</td>\n",
       "    </tr>\n",
       "  </tbody>\n",
       "</table>\n",
       "<p>2 rows × 89 columns</p>\n",
       "</div>"
      ],
      "text/plain": [
       "      ExportDate StudioVersionRec StudioProjectName StudioTestName  \\\n",
       "789   02/03/2018            3.4.8   DP_oboznamenost       New test   \n",
       "1091  02/03/2018            3.4.8   DP_oboznamenost       New test   \n",
       "\n",
       "     ParticipantName  [Q01]Value  [Q01_1]Value  [Q01_1_1]Value  \\\n",
       "789         tester08         NaN           NaN             NaN   \n",
       "1091        tester08         NaN           NaN             NaN   \n",
       "\n",
       "      [Q01_1_1_1]Value  [Q01_1_1_1_1]Value        ...          CamRightY  \\\n",
       "789                NaN                 NaN        ...                NaN   \n",
       "1091               NaN                 NaN        ...                NaN   \n",
       "\n",
       "      DistanceLeft  DistanceRight PupilLeft PupilRight  ValidityLeft  \\\n",
       "789            NaN            NaN       NaN        NaN           NaN   \n",
       "1091           NaN            NaN       NaN        NaN           NaN   \n",
       "\n",
       "     ValidityRight IRMarkerCount IRMarkerID  PupilGlassesRight  \n",
       "789            NaN           NaN        NaN                NaN  \n",
       "1091           NaN           NaN        NaN                NaN  \n",
       "\n",
       "[2 rows x 89 columns]"
      ]
     },
     "execution_count": 53,
     "metadata": {},
     "output_type": "execute_result"
    }
   ],
   "source": [
    "dd = df_testers[\"tester08\"]\n",
    "#for v in dd.iloc[90:5014].values:\n",
    "#for v in dd.iloc[90:91].values:\n",
    "    #print(v)\n",
    "#dd.iloc[90:5014].columns.values \n",
    "dd[dd['StudioEventData'] == \"V1_190x120.png\"]\n"
   ]
  },
  {
   "cell_type": "code",
   "execution_count": 54,
   "metadata": {},
   "outputs": [
    {
     "data": {
      "text/html": [
       "<div>\n",
       "<style scoped>\n",
       "    .dataframe tbody tr th:only-of-type {\n",
       "        vertical-align: middle;\n",
       "    }\n",
       "\n",
       "    .dataframe tbody tr th {\n",
       "        vertical-align: top;\n",
       "    }\n",
       "\n",
       "    .dataframe thead th {\n",
       "        text-align: right;\n",
       "    }\n",
       "</style>\n",
       "<table border=\"1\" class=\"dataframe\">\n",
       "  <thead>\n",
       "    <tr style=\"text-align: right;\">\n",
       "      <th></th>\n",
       "      <th>ExportDate</th>\n",
       "      <th>StudioVersionRec</th>\n",
       "      <th>StudioProjectName</th>\n",
       "      <th>StudioTestName</th>\n",
       "      <th>ParticipantName</th>\n",
       "      <th>[Q01]Value</th>\n",
       "      <th>[Q01_1]Value</th>\n",
       "      <th>[Q01_1_1]Value</th>\n",
       "      <th>[Q01_1_1_1]Value</th>\n",
       "      <th>[Q01_1_1_1_1]Value</th>\n",
       "      <th>...</th>\n",
       "      <th>CamRightY</th>\n",
       "      <th>DistanceLeft</th>\n",
       "      <th>DistanceRight</th>\n",
       "      <th>PupilLeft</th>\n",
       "      <th>PupilRight</th>\n",
       "      <th>ValidityLeft</th>\n",
       "      <th>ValidityRight</th>\n",
       "      <th>IRMarkerCount</th>\n",
       "      <th>IRMarkerID</th>\n",
       "      <th>PupilGlassesRight</th>\n",
       "    </tr>\n",
       "  </thead>\n",
       "  <tbody>\n",
       "    <tr>\n",
       "      <th>1097</th>\n",
       "      <td>02/03/2018</td>\n",
       "      <td>3.4.8</td>\n",
       "      <td>DP_oboznamenost</td>\n",
       "      <td>New test</td>\n",
       "      <td>tester08</td>\n",
       "      <td>NaN</td>\n",
       "      <td>NaN</td>\n",
       "      <td>NaN</td>\n",
       "      <td>NaN</td>\n",
       "      <td>NaN</td>\n",
       "      <td>...</td>\n",
       "      <td>NaN</td>\n",
       "      <td>NaN</td>\n",
       "      <td>NaN</td>\n",
       "      <td>NaN</td>\n",
       "      <td>NaN</td>\n",
       "      <td>NaN</td>\n",
       "      <td>NaN</td>\n",
       "      <td>NaN</td>\n",
       "      <td>NaN</td>\n",
       "      <td>NaN</td>\n",
       "    </tr>\n",
       "    <tr>\n",
       "      <th>1401</th>\n",
       "      <td>02/03/2018</td>\n",
       "      <td>3.4.8</td>\n",
       "      <td>DP_oboznamenost</td>\n",
       "      <td>New test</td>\n",
       "      <td>tester08</td>\n",
       "      <td>NaN</td>\n",
       "      <td>NaN</td>\n",
       "      <td>NaN</td>\n",
       "      <td>NaN</td>\n",
       "      <td>NaN</td>\n",
       "      <td>...</td>\n",
       "      <td>NaN</td>\n",
       "      <td>NaN</td>\n",
       "      <td>NaN</td>\n",
       "      <td>NaN</td>\n",
       "      <td>NaN</td>\n",
       "      <td>NaN</td>\n",
       "      <td>NaN</td>\n",
       "      <td>NaN</td>\n",
       "      <td>NaN</td>\n",
       "      <td>NaN</td>\n",
       "    </tr>\n",
       "  </tbody>\n",
       "</table>\n",
       "<p>2 rows × 89 columns</p>\n",
       "</div>"
      ],
      "text/plain": [
       "      ExportDate StudioVersionRec StudioProjectName StudioTestName  \\\n",
       "1097  02/03/2018            3.4.8   DP_oboznamenost       New test   \n",
       "1401  02/03/2018            3.4.8   DP_oboznamenost       New test   \n",
       "\n",
       "     ParticipantName  [Q01]Value  [Q01_1]Value  [Q01_1_1]Value  \\\n",
       "1097        tester08         NaN           NaN             NaN   \n",
       "1401        tester08         NaN           NaN             NaN   \n",
       "\n",
       "      [Q01_1_1_1]Value  [Q01_1_1_1_1]Value        ...          CamRightY  \\\n",
       "1097               NaN                 NaN        ...                NaN   \n",
       "1401               NaN                 NaN        ...                NaN   \n",
       "\n",
       "      DistanceLeft  DistanceRight PupilLeft PupilRight  ValidityLeft  \\\n",
       "1097           NaN            NaN       NaN        NaN           NaN   \n",
       "1401           NaN            NaN       NaN        NaN           NaN   \n",
       "\n",
       "     ValidityRight IRMarkerCount IRMarkerID  PupilGlassesRight  \n",
       "1097           NaN           NaN        NaN                NaN  \n",
       "1401           NaN           NaN        NaN                NaN  \n",
       "\n",
       "[2 rows x 89 columns]"
      ]
     },
     "execution_count": 54,
     "metadata": {},
     "output_type": "execute_result"
    }
   ],
   "source": [
    "dd[dd['StudioEventData'] == \"V2_950x120.png\"]"
   ]
  },
  {
   "cell_type": "code",
   "execution_count": 123,
   "metadata": {},
   "outputs": [],
   "source": [
    "_user_tasks = get_user_task(df_testers[\"tester38\"])"
   ]
  },
  {
   "cell_type": "code",
   "execution_count": 128,
   "metadata": {},
   "outputs": [
    {
     "name": "stdout",
     "output_type": "stream",
     "text": [
      "Empty DataFrame\n",
      "Columns: [ExportDate, StudioVersionRec, StudioProjectName]\n",
      "Index: []\n"
     ]
    }
   ],
   "source": [
    "print(dd[dd['StudioEventData'] == 'IE_OB'].iloc[:,0:3])"
   ]
  },
  {
   "cell_type": "code",
   "execution_count": 110,
   "metadata": {},
   "outputs": [
    {
     "data": {
      "text/plain": [
       "array([71820, 72669], dtype=int64)"
      ]
     },
     "execution_count": 110,
     "metadata": {},
     "output_type": "execute_result"
    }
   ],
   "source": [
    "dd['StudioEventData'].unique()\n",
    "dd[dd['StudioEventData'] == 'IE_6'].index.values"
   ]
  },
  {
   "cell_type": "code",
   "execution_count": 69,
   "metadata": {},
   "outputs": [],
   "source": [
    "dd = df_testers[\"tester58\"]"
   ]
  },
  {
   "cell_type": "code",
   "execution_count": 130,
   "metadata": {
    "scrolled": true
   },
   "outputs": [
    {
     "data": {
      "text/plain": [
       "array([nan, 'IE_O', 'V1_190x120.png', 'V2_950x120.png', 'V3_1710x120.png',\n",
       "       'V4_190x600.png', 'V5_950x600.png', 'V6_1710x600.png',\n",
       "       'V7_190x1080.png', 'V8_950x1080.png', 'V9_1710x1080.png',\n",
       "       'VA_950x600.png', 'VB_950x600.png', 'VC_950x600.png',\n",
       "       'VD_950x600.png', 'IE_uvod', 'IE_3', 'https://www.alza.sk/',\n",
       "       'https://www.alza.sk/MailingActionList.htm',\n",
       "       'https://www.alza.sk/MailingActionList.htm?layoutAutoChange=1',\n",
       "       'https://www.alza.sk/zlavove-tornado', 'IE_4',\n",
       "       'https://www.alza.sk/digitalne-fotoaparaty/18843129.htm',\n",
       "       'https://www.alza.sk/digitalne-fotoaparaty/18843129.htm#f&limit=200---1&cst=0&pg=1&prod=&sc=910',\n",
       "       'https://www.alza.sk/digitalne-fotoaparaty/18843129.htm#f&limit=200---1&cst=0&pg=1&pn=1&prod=&sc=910',\n",
       "       'https://www.alza.sk/lacne-digitalne-fotoaparaty/18843129.htm#f&limit=200---1&cst=0&pg=1&pn=1&prod=&sc=910',\n",
       "       'IE_2', 'https://www.alza.sk/sony-cybershot-dsc-w800?dq=601733',\n",
       "       'IE_5', 'IE_1', 'https://www.alza.sk/muj-ucet/profil',\n",
       "       'https://www.alza.sk/muj-ucet/objednavky.htm',\n",
       "       'https://www.alza.sk/muj-ucet/objednavka-169446698.htm', 'IE_6',\n",
       "       'https://www.alza.sk/canon-eos-m10?dq=3753223',\n",
       "       'https://www.alza.sk/canon-powershot-g7-x-mark-ii?dq=4059023',\n",
       "       'https://www.alza.sk/porovnani.htm?c=OC065h5c;OC063k92;', 'IE_8',\n",
       "       'IE_7',\n",
       "       'https://www.alza.sk/sony-cybershot-dsc-w800?dq=601733#recenze',\n",
       "       'IE_OB', 'IE_dot',\n",
       "       'https://docs.google.com/forms/d/e/1FAIpQLScpXehOlSWnlVp6Srtb5fUxCQo_WyizVOgRrmK8lWPhhMP4NQ/viewform?usp=send_form',\n",
       "       'https://docs.google.com/forms/d/e/1FAIpQLScpXehOlSWnlVp6Srtb5fUxCQo_WyizVOgRrmK8lWPhhMP4NQ/viewform',\n",
       "       'https://docs.google.com/forms/d/e/1FAIpQLScpXehOlSWnlVp6Srtb5fUxCQo_WyizVOgRrmK8lWPhhMP4NQ/viewform?fbzx=3531604479587662300',\n",
       "       'https://docs.google.com/forms/d/e/1FAIpQLScpXehOlSWnlVp6Srtb5fUxCQo_WyizVOgRrmK8lWPhhMP4NQ/formResponse'],\n",
       "      dtype=object)"
      ]
     },
     "execution_count": 130,
     "metadata": {},
     "output_type": "execute_result"
    }
   ],
   "source": [
    "dd['StudioEventData'].unique()"
   ]
  },
  {
   "cell_type": "code",
   "execution_count": 70,
   "metadata": {},
   "outputs": [
    {
     "name": "stdout",
     "output_type": "stream",
     "text": [
      "      ExportDate StudioVersionRec StudioProjectName\n",
      "4911    3/8/2018            3.4.8   DP_oboznamenost\n",
      "5217    3/8/2018            3.4.8   DP_oboznamenost\n",
      "90616   3/8/2018            3.4.8   DP_oboznamenost\n",
      "90916   3/8/2018            3.4.8   DP_oboznamenost\n"
     ]
    }
   ],
   "source": [
    "print(dd[dd['StudioEventData'] == 'VD_950x600.png'].iloc[:,0:3])"
   ]
  },
  {
   "cell_type": "code",
   "execution_count": 18,
   "metadata": {
    "scrolled": true
   },
   "outputs": [
    {
     "name": "stdout",
     "output_type": "stream",
     "text": [
      "IE_O\n",
      "[ 90 758]\n",
      "\n",
      "\n",
      "V1_190x120.png\n",
      "[ 802 1106]\n",
      "\n",
      "\n",
      "V2_950x120.png\n",
      "[1111 1415]\n",
      "\n",
      "\n",
      "V3_1710x120.png\n",
      "[1419 1723]\n",
      "\n",
      "\n",
      "V4_190x600.png\n",
      "[1728 2032]\n",
      "\n",
      "\n",
      "V5_950x600.png\n",
      "[2035 2340]\n",
      "\n",
      "\n",
      "V6_1710x600.png\n",
      "[2345 2649]\n",
      "\n",
      "\n",
      "V7_190x1080.png\n",
      "[2654 2958]\n",
      "\n",
      "\n",
      "V8_950x1080.png\n",
      "[2962 3266]\n",
      "\n",
      "\n",
      "V9_1710x1080.png\n",
      "[3271 3575]\n",
      "\n",
      "\n",
      "VA_950x600.png\n",
      "[3580 3883]\n",
      "\n",
      "\n",
      "VB_950x600.png\n",
      "[3887 4192]\n",
      "\n",
      "\n",
      "VC_950x600.png\n",
      "[4195 4499]\n",
      "\n",
      "\n",
      "VD_950x600.png\n",
      "[4501 4806]\n",
      "\n",
      "\n"
     ]
    }
   ],
   "source": [
    "calib = ['V1_190x120.png', 'V2_950x120.png', 'V3_1710x120.png',\n",
    "       'V4_190x600.png', 'V5_950x600.png', 'V6_1710x600.png',\n",
    "       'V7_190x1080.png', 'V8_950x1080.png', 'V9_1710x1080.png',\n",
    "       'VA_950x600.png', 'VB_950x600.png', 'VC_950x600.png',\n",
    "       'VD_950x600.png']\n",
    "\n",
    "\n",
    "for c in calib:\n",
    "    print(c)\n",
    "    print(dd[dd['StudioEventData'] == c].index.values[0:2])\n",
    "    print(\"\\n\")"
   ]
  },
  {
   "cell_type": "code",
   "execution_count": null,
   "metadata": {},
   "outputs": [],
   "source": []
  }
 ],
 "metadata": {
  "anaconda-cloud": {},
  "kernelspec": {
   "display_name": "Python [conda env:Anaconda3]",
   "language": "python",
   "name": "conda-env-Anaconda3-py"
  },
  "language_info": {
   "codemirror_mode": {
    "name": "ipython",
    "version": 3
   },
   "file_extension": ".py",
   "mimetype": "text/x-python",
   "name": "python",
   "nbconvert_exporter": "python",
   "pygments_lexer": "ipython3",
   "version": "3.5.5"
  }
 },
 "nbformat": 4,
 "nbformat_minor": 2
}
